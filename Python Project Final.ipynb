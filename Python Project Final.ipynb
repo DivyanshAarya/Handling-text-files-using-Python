{
 "cells": [
  {
   "cell_type": "code",
   "execution_count": 2,
   "id": "d753335c",
   "metadata": {},
   "outputs": [],
   "source": [
    "import pandas as pd"
   ]
  },
  {
   "cell_type": "code",
   "execution_count": 3,
   "id": "4a276c3a",
   "metadata": {},
   "outputs": [
    {
     "data": {
      "text/html": [
       "<div>\n",
       "<style scoped>\n",
       "    .dataframe tbody tr th:only-of-type {\n",
       "        vertical-align: middle;\n",
       "    }\n",
       "\n",
       "    .dataframe tbody tr th {\n",
       "        vertical-align: top;\n",
       "    }\n",
       "\n",
       "    .dataframe thead th {\n",
       "        text-align: right;\n",
       "    }\n",
       "</style>\n",
       "<table border=\"1\" class=\"dataframe\">\n",
       "  <thead>\n",
       "    <tr style=\"text-align: right;\">\n",
       "      <th></th>\n",
       "      <th>0</th>\n",
       "    </tr>\n",
       "  </thead>\n",
       "  <tbody>\n",
       "    <tr>\n",
       "      <th>0</th>\n",
       "      <td>WILL: I’ve never seen wildlings do a thing lik...</td>\n",
       "    </tr>\n",
       "    <tr>\n",
       "      <th>1</th>\n",
       "      <td>WAYMAR ROYCE: How close did you get?</td>\n",
       "    </tr>\n",
       "    <tr>\n",
       "      <th>2</th>\n",
       "      <td>WILL: Close as any man would.</td>\n",
       "    </tr>\n",
       "    <tr>\n",
       "      <th>3</th>\n",
       "      <td>GARED: We should head back to the wall.</td>\n",
       "    </tr>\n",
       "    <tr>\n",
       "      <th>4</th>\n",
       "      <td>ROYCE: Do the dead frighten you?</td>\n",
       "    </tr>\n",
       "  </tbody>\n",
       "</table>\n",
       "</div>"
      ],
      "text/plain": [
       "                                                   0\n",
       "0  WILL: I’ve never seen wildlings do a thing lik...\n",
       "1               WAYMAR ROYCE: How close did you get?\n",
       "2                      WILL: Close as any man would.\n",
       "3            GARED: We should head back to the wall.\n",
       "4                   ROYCE: Do the dead frighten you?"
      ]
     },
     "execution_count": 3,
     "metadata": {},
     "output_type": "execute_result"
    }
   ],
   "source": [
    "data_delimiter = pd.read_csv('/Users/aryan/Downloads/datasets/conv.txt',delimiter = '\"\\n\"', engine = \"python\", header = None)\n",
    "data_delimiter.head()"
   ]
  },
  {
   "cell_type": "code",
   "execution_count": 9,
   "id": "4c9cf237",
   "metadata": {},
   "outputs": [
    {
     "data": {
      "text/html": [
       "<div>\n",
       "<style scoped>\n",
       "    .dataframe tbody tr th:only-of-type {\n",
       "        vertical-align: middle;\n",
       "    }\n",
       "\n",
       "    .dataframe tbody tr th {\n",
       "        vertical-align: top;\n",
       "    }\n",
       "\n",
       "    .dataframe thead th {\n",
       "        text-align: right;\n",
       "    }\n",
       "</style>\n",
       "<table border=\"1\" class=\"dataframe\">\n",
       "  <thead>\n",
       "    <tr style=\"text-align: right;\">\n",
       "      <th></th>\n",
       "      <th>0</th>\n",
       "      <th>1</th>\n",
       "    </tr>\n",
       "  </thead>\n",
       "  <tbody>\n",
       "    <tr>\n",
       "      <th>0</th>\n",
       "      <td>WILL</td>\n",
       "      <td>I’ve never seen wildlings do a thing like thi...</td>\n",
       "    </tr>\n",
       "    <tr>\n",
       "      <th>1</th>\n",
       "      <td>WAYMAR ROYCE</td>\n",
       "      <td>How close did you get?</td>\n",
       "    </tr>\n",
       "    <tr>\n",
       "      <th>2</th>\n",
       "      <td>WILL</td>\n",
       "      <td>Close as any man would.</td>\n",
       "    </tr>\n",
       "    <tr>\n",
       "      <th>3</th>\n",
       "      <td>GARED</td>\n",
       "      <td>We should head back to the wall.</td>\n",
       "    </tr>\n",
       "    <tr>\n",
       "      <th>4</th>\n",
       "      <td>ROYCE</td>\n",
       "      <td>Do the dead frighten you?</td>\n",
       "    </tr>\n",
       "    <tr>\n",
       "      <th>...</th>\n",
       "      <td>...</td>\n",
       "      <td>...</td>\n",
       "    </tr>\n",
       "    <tr>\n",
       "      <th>106</th>\n",
       "      <td>NED</td>\n",
       "      <td>Tell me about Jon Arryn.</td>\n",
       "    </tr>\n",
       "    <tr>\n",
       "      <th>107</th>\n",
       "      <td>ROBERT</td>\n",
       "      <td>One minute he was fine, and then … Burned rig...</td>\n",
       "    </tr>\n",
       "    <tr>\n",
       "      <th>108</th>\n",
       "      <td>NED</td>\n",
       "      <td>We both did.</td>\n",
       "    </tr>\n",
       "    <tr>\n",
       "      <th>109</th>\n",
       "      <td>ROBERT</td>\n",
       "      <td>He never had to teach you much, but me … You ...</td>\n",
       "    </tr>\n",
       "    <tr>\n",
       "      <th>110</th>\n",
       "      <td>NED</td>\n",
       "      <td>Aye.</td>\n",
       "    </tr>\n",
       "  </tbody>\n",
       "</table>\n",
       "<p>111 rows × 2 columns</p>\n",
       "</div>"
      ],
      "text/plain": [
       "                0                                                  1\n",
       "0            WILL   I’ve never seen wildlings do a thing like thi...\n",
       "1    WAYMAR ROYCE                             How close did you get?\n",
       "2            WILL                            Close as any man would.\n",
       "3           GARED                   We should head back to the wall.\n",
       "4           ROYCE                          Do the dead frighten you?\n",
       "..            ...                                                ...\n",
       "106           NED                           Tell me about Jon Arryn.\n",
       "107        ROBERT   One minute he was fine, and then … Burned rig...\n",
       "108           NED                                       We both did.\n",
       "109        ROBERT   He never had to teach you much, but me … You ...\n",
       "110           NED                                               Aye.\n",
       "\n",
       "[111 rows x 2 columns]"
      ]
     },
     "execution_count": 9,
     "metadata": {},
     "output_type": "execute_result"
    }
   ],
   "source": [
    "Dataset = data_delimiter[0].str.split(\":\", expand=True)\n",
    "Dataset"
   ]
  },
  {
   "cell_type": "code",
   "execution_count": 5,
   "id": "ad323b9f",
   "metadata": {},
   "outputs": [
    {
     "name": "stdout",
     "output_type": "stream",
     "text": [
      "{'WILL': ' ', 'WAYMAR ROYCE': ' ', 'GARED': ' ', 'ROYCE': ' ', 'JON': ' ', 'SEPTA MORDANE': ' ', 'SANSA': ' ', 'NED': ' ', 'ROBB': ' ', 'CASSEL': ' ', 'CATELYN': ' ', 'BRAN': ' ', 'THEON': ' ', 'CERSEI': ' ', 'JAIME': ' ', 'ROBERT': ' ', 'ARYA': ' '}\n"
     ]
    }
   ],
   "source": [
    "dictionary = {}\n",
    "for i in range(111):\n",
    "    dictionary[Dataset[0][i]] = \" \"\n",
    "print(dictionary)   "
   ]
  },
  {
   "cell_type": "code",
   "execution_count": 10,
   "id": "e4ad2ded",
   "metadata": {},
   "outputs": [
    {
     "name": "stdout",
     "output_type": "stream",
     "text": [
      "{'WILL': '  i’ve never seen wildlings do a thing like this. this, not my life. close as any man would. whatever did it to them could us. they even killed children. were here.', 'WAYMAR ROYCE': '  how close did you get?', 'GARED': '  we should head back to the wall. our orders were track wildlings. tracked them. they won’t trouble us no more. see where went.', 'ROYCE': '  do the dead frighten you? don’t think he’ll ask us how they died? get back your horse. it’s good thing we’re not children. want to run away south, away. of course, will behead deserter … if catch first. won’t say again. men seem have moved camp. what is it?', 'JON': '  go on. father’s watching. and your mother. don’t think too much, bran. will know if do. did well. what is it? there are five. want hold lord stark? pups. one for each of children. direwolf sigil house. they were meant have them. i’m not stark. get', 'SEPTA MORDANE': '  fine work, as always. well done. love the detail that you’ve managed to get this corners.', 'SANSA': '  thank you. will shut up? would please up.', 'NED': '  and which one of you was marksman at ten? keep practicing, bran. go on. get the lads to saddle their horses. swore oath, cat. tell he’s coming, too. won’t be boy forever. winter is coming. king andals first men … lord seven kingdoms protector realm, i, eddard house stark, winterfell warden north, sentence die. understand why did it? but had kill him? who passes should swing sword. white walkers have been gone thousands years. madman sees what sees. there are mountain lions these woods. it’s direwolf. tough old beast. better quick death. they last without mother. i’m sorry, will train them yourselves. feed if die, bury five northern children. you’re not outsider. gods all rules. me. grace. guarding you, yours. my queen. about jon arryn. we both did. aye.', 'ROBB': '  relax your bow arm. lad, go run back and get the rest. there are no direwolves south of wall. put away blade. what is it? hear prince right royal prick. on, tommy, shave him good. he’s never met girl likes better than his own hair.', 'CASSEL': '  lord stark. my lady. guardsman just rode in from the hills. they’ve captured deserter night’s watch. law is law, don’t belong down here.', 'CATELYN': '  do you have to? ned. ten is too young see such things. all these years and still feel like outsider when come here. wonder if old gods agree. am so sorry, my love. gods, but they grow fast. how many times told no climbing! want promise me. more climbing. your grace. queen.', 'BRAN': '  jon said he was deserter. our way is the old way? it true saw white walkers? so lying? where will they go? their mother’s dead. no! please, father! what about you? king! he’s got hundreds of people! but coming right now! down road!', 'THEON': '  mountain lion? it’s freak. right. give here. take orders from your father, not you. think of all those southern girls gets to stab with his royal prick.', 'CERSEI': '  what if jon arryn told someone? my husband. you should be the hand of king. we’ve been riding for month, love. surely dead can wait. where is our brother? go find little beast.', 'JAIME': '  but who would he tell? if told the king, both our heads be skewered on city gates by now. whatever jon arryn knew or didn’t know, died with him. and robert will choose hand of someone do his job while he’s off fucking boars hunting whores. other way around? life go on. that’s honor can without. their days are too long, lives short.', 'ROBERT': '  you’ve got fat. cat! nine years. why haven’t seen you? where the hell been? who we here? must robb. ooh. show your muscles. you’ll soldier. take me to crypt. want pay my respects. ned. one minute was fine, and then … burned right through him, whatever it was. loved that man. never had teach much, but remember 16? all wanted do crack skulls fuck girls. showed what.', 'ARYA': '  where’s the imp? arya. that’s jaime lannister. queen’s twin brother.'}\n"
     ]
    }
   ],
   "source": [
    "for i in range(111):\n",
    "    words = Dataset[1][i].split()\n",
    "    for word in words:\n",
    "        newword = ((str(word).lower()))\n",
    "        if newword not in dictionary[Dataset[0][i]]:\n",
    "            dictionary[Dataset[0][i]] = dictionary[Dataset[0][i]] +\" \"+ newword\n",
    "\n",
    "print(dictionary)"
   ]
  },
  {
   "cell_type": "code",
   "execution_count": null,
   "id": "a00f30b6",
   "metadata": {},
   "outputs": [],
   "source": []
  }
 ],
 "metadata": {
  "kernelspec": {
   "display_name": "Python 3 (ipykernel)",
   "language": "python",
   "name": "python3"
  },
  "language_info": {
   "codemirror_mode": {
    "name": "ipython",
    "version": 3
   },
   "file_extension": ".py",
   "mimetype": "text/x-python",
   "name": "python",
   "nbconvert_exporter": "python",
   "pygments_lexer": "ipython3",
   "version": "3.9.12"
  }
 },
 "nbformat": 4,
 "nbformat_minor": 5
}
